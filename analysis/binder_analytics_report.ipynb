{
 "cells": [
  {
   "cell_type": "markdown",
   "metadata": {},
   "source": [
    "# MyBinder Analytics Data Analysis\n",
    "\n",
    "+++ {\"class\": \"col-page\"}\n",
    "\n",
    "This notebook analyzes MyBinder launch data from the automated releases at the following URL:\n",
    "\n",
    "[github.com/jupyterhub/binder-data/releases/tag/latest](https://github.com/jupyterhub/binder-data/releases/tag/latest)"
   ]
  },
  {
   "cell_type": "code",
   "execution_count": null,
   "metadata": {
    "editable": true,
    "slideshow": {
     "slide_type": ""
    },
    "tags": [
     "remove-cell"
    ]
   },
   "outputs": [],
   "source": [
    "from datetime import datetime, timedelta\n",
    "\n",
    "import numpy as np\n",
    "import pandas as pd\n",
    "import plotly.express as px\n",
    "import plotly.graph_objects as go\n",
    "from plotly.subplots import make_subplots"
   ]
  },
  {
   "cell_type": "code",
   "execution_count": null,
   "metadata": {
    "editable": true,
    "slideshow": {
     "slide_type": ""
    },
    "tags": [
     "remove-cell"
    ]
   },
   "outputs": [],
   "source": [
    "def load_binder_data(\n",
    "    url=\"https://github.com/jupyterhub/binder-data/releases/download/latest/launches.parquet\",\n",
    "):\n",
    "    \"\"\"\n",
    "    Load MyBinder analytics data from GitHub release.\n",
    "\n",
    "    Args:\n",
    "        url: URL to the parquet file in GitHub releases\n",
    "\n",
    "    Returns:\n",
    "        DataFrame with binder launch data\n",
    "    \"\"\"\n",
    "    print(f\"Loading data from: {url}\")\n",
    "\n",
    "    try:\n",
    "        df = pd.read_parquet(url)\n",
    "        print(f\"✓ Loaded {len(df):,} records\")\n",
    "        print(f\"Date range: {df['timestamp'].min()} to {df['timestamp'].max()}\")\n",
    "        df[\"timestamp\"] = pd.to_datetime(df[\"timestamp\"])    \n",
    "        return df\n",
    "    except Exception as e:\n",
    "        print(f\"✗ Failed to load data: {e}\")\n",
    "        raise  # Re-raise the exception to fail the notebook\""
   ]
  },
  {
   "cell_type": "code",
   "execution_count": null,
   "metadata": {
    "editable": true,
    "slideshow": {
     "slide_type": ""
    },
    "tags": [
     "remove-cell"
    ]
   },
   "outputs": [],
   "source": [
    "# Load the data\n",
    "df = load_binder_data()"
   ]
  },
  {
   "cell_type": "markdown",
   "metadata": {},
   "source": [
    "## Launches Over Time by Source\n",
    "\n",
    "Weekly trends of Binder launches grouped by the BinderHub that launched them."
   ]
  },
  {
   "cell_type": "code",
   "execution_count": null,
   "metadata": {
    "tags": [
     "remove-cell"
    ]
   },
   "outputs": [],
   "source": [
    "def plot_launches_by_source_over_time(df):\n",
    "    \"\"\"\n",
    "    Create interactive stacked area chart showing number of launches over time by week for each source.\n",
    "    Excludes the latest week of data which may be incomplete.\n",
    "    \"\"\"\n",
    "    if df.empty or \"timestamp\" not in df.columns or \"origin\" not in df.columns:\n",
    "        print(\"Missing required columns for time series analysis\")\n",
    "        return\n",
    "\n",
    "    # Exclude the latest week of data (may be incomplete)\n",
    "    latest_week_start = df[\"timestamp\"].max() - timedelta(days=7)\n",
    "    df_filtered = df[df[\"timestamp\"] < latest_week_start]\n",
    "    \n",
    "    # Resample by week and count launches by origin\n",
    "    df_weekly = (\n",
    "        df_filtered.set_index(\"timestamp\").groupby(\"origin\").resample(\"W\", include_groups=False).size().reset_index()\n",
    "    )\n",
    "    df_weekly.columns = [\"origin\", \"week\", \"launches\"]\n",
    "\n",
    "    # Get top sources for better visualization\n",
    "    top_sources = df_filtered[\"origin\"].value_counts().head(8).index\n",
    "    df_weekly_top = df_weekly[df_weekly[\"origin\"].isin(top_sources)]\n",
    "\n",
    "    fig = px.area(\n",
    "        df_weekly_top, \n",
    "        x=\"week\", \n",
    "        y=\"launches\", \n",
    "        color=\"origin\",\n",
    "        title=\"MyBinder Launches Over Time by Source (Weekly - Stacked)\",\n",
    "        labels={\"week\": \"Date\", \"launches\": \"Number of Launches\", \"origin\": \"Source\"}\n",
    "    )\n",
    "    \n",
    "    fig.update_layout(\n",
    "        width=1000, \n",
    "        height=600,\n",
    "        hovermode=\"x unified\",\n",
    "        legend=dict(orientation=\"h\", yanchor=\"bottom\", y=1.02, xanchor=\"right\", x=1)\n",
    "    )\n",
    "    \n",
    "    fig.show()"
   ]
  },
  {
   "cell_type": "code",
   "execution_count": null,
   "metadata": {
    "tags": [
     "remove-input"
    ]
   },
   "outputs": [],
   "source": [
    "plot_launches_by_source_over_time(df)"
   ]
  },
  {
   "cell_type": "markdown",
   "metadata": {},
   "source": [
    "## Top 25 Repositories (Last 90 Days)\n",
    "\n",
    "The most popular repositories launched on MyBinder in the last 90 days."
   ]
  },
  {
   "cell_type": "code",
   "execution_count": null,
   "metadata": {
    "tags": [
     "remove-cell"
    ]
   },
   "outputs": [],
   "source": [
    "def plot_top_repositories_last_90_days(df):\n",
    "    \"\"\"\n",
    "    Create interactive horizontal bar chart of launches in the last 90 days for top 25 repositories.\n",
    "    Excludes the latest week of data which may be incomplete.\n",
    "    \"\"\"\n",
    "    if df.empty or \"timestamp\" not in df.columns or \"spec\" not in df.columns:\n",
    "        print(\"Missing required columns for repository analysis\")\n",
    "        return\n",
    "\n",
    "    # Exclude the latest week of data (may be incomplete)\n",
    "    latest_week_start = df[\"timestamp\"].max() - timedelta(days=7)\n",
    "    \n",
    "    # Filter to last 90 days (excluding latest week)\n",
    "    cutoff_date = latest_week_start - timedelta(days=90)\n",
    "    df_recent = df[(df[\"timestamp\"] >= cutoff_date) & (df[\"timestamp\"] < latest_week_start)]\n",
    "\n",
    "    # Count launches by repository (spec)\n",
    "    repo_counts = df_recent[\"spec\"].value_counts().head(25)\n",
    "    \n",
    "    # Create DataFrame for plotting\n",
    "    plot_df = pd.DataFrame({\n",
    "        'repository': repo_counts.index,\n",
    "        'launches': repo_counts.values\n",
    "    })\n",
    "    \n",
    "    fig = px.bar(\n",
    "        plot_df,\n",
    "        x=\"launches\",\n",
    "        y=\"repository\",\n",
    "        orientation=\"h\",\n",
    "        title=\"Top 25 Repositories by Launches (Last 90 Days, excluding latest week)\",\n",
    "        labels={\"launches\": \"Number of Launches\", \"repository\": \"Repository\"},\n",
    "        text=\"launches\"\n",
    "    )\n",
    "    \n",
    "    fig.update_layout(\n",
    "        width=1000,\n",
    "        height=800,\n",
    "        yaxis={'categoryorder': 'total ascending'}\n",
    "    )\n",
    "    \n",
    "    fig.update_traces(textposition='outside')\n",
    "    \n",
    "    fig.show()"
   ]
  },
  {
   "cell_type": "code",
   "execution_count": null,
   "metadata": {
    "tags": [
     "remove-input"
    ]
   },
   "outputs": [],
   "source": [
    "plot_top_repositories_last_90_days(df)"
   ]
  },
  {
   "cell_type": "markdown",
   "metadata": {},
   "source": [
    "## Provider Distribution (Last 90 Days)\n",
    "\n",
    "Distribution of launches by git provider (GitHub, GitLab, etc.) in the last 90 days."
   ]
  },
  {
   "cell_type": "code",
   "execution_count": null,
   "metadata": {
    "tags": [
     "remove-cell"
    ]
   },
   "outputs": [],
   "source": [
    "def plot_provider_distribution_last_90_days(df):\n",
    "    \"\"\"\n",
    "    Create bar chart showing distribution of launches by provider in the last 90 days.\n",
    "    Excludes the latest week of data which may be incomplete.\n",
    "    \"\"\"\n",
    "    if df.empty or \"timestamp\" not in df.columns or \"provider\" not in df.columns:\n",
    "        print(\"Missing required columns for provider analysis\")\n",
    "        return\n",
    "\n",
    "    # Exclude the latest week of data (may be incomplete)\n",
    "    latest_week_start = df[\"timestamp\"].max() - timedelta(days=7)\n",
    "    \n",
    "    # Filter to last 90 days (excluding latest week)\n",
    "    cutoff_date = latest_week_start - timedelta(days=90)\n",
    "    df_recent = df[(df[\"timestamp\"] >= cutoff_date) & (df[\"timestamp\"] < latest_week_start)]\n",
    "\n",
    "    # Count launches by provider\n",
    "    provider_counts = df_recent[\"provider\"].value_counts()\n",
    "    \n",
    "    # Create DataFrame for plotting\n",
    "    plot_df = pd.DataFrame({\n",
    "        'provider': provider_counts.index,\n",
    "        'launches': provider_counts.values\n",
    "    })\n",
    "    \n",
    "    fig = px.bar(\n",
    "        plot_df,\n",
    "        x=\"provider\",\n",
    "        y=\"launches\",\n",
    "        title=\"MyBinder Launches by Provider (Last 90 Days, excluding latest week)\",\n",
    "        labels={\"launches\": \"Number of Launches\", \"provider\": \"Provider\"},\n",
    "        text=\"launches\"\n",
    "    )\n",
    "    \n",
    "    fig.update_layout(\n",
    "        width=800,\n",
    "        height=600,\n",
    "        xaxis={'categoryorder': 'total descending'}\n",
    "    )\n",
    "    \n",
    "    fig.update_traces(textposition='outside')\n",
    "    \n",
    "    fig.show()"
   ]
  },
  {
   "cell_type": "code",
   "execution_count": null,
   "metadata": {
    "tags": [
     "remove-input"
    ]
   },
   "outputs": [],
   "source": [
    "plot_provider_distribution_last_90_days(df)"
   ]
  },
  {
   "cell_type": "markdown",
   "metadata": {},
   "source": [
    "## Summary Statistics\n",
    "\n",
    "Key metrics about the MyBinder analytics dataset:"
   ]
  },
  {
   "cell_type": "code",
   "execution_count": null,
   "metadata": {
    "tags": [
     "remove-input"
    ]
   },
   "outputs": [],
   "source": [
    "# Additional summary statistics\n",
    "if not df.empty:\n",
    "    print(\"Summary Statistics:\")\n",
    "    print(\"=\" * 50)\n",
    "\n",
    "    total_launches = len(df)\n",
    "    print(f\"Total launches: {total_launches:,}\")\n",
    "\n",
    "    if \"origin\" in df.columns:\n",
    "        unique_sources = df[\"origin\"].nunique()\n",
    "        print(f\"Unique sources: {unique_sources}\")\n",
    "\n",
    "    if \"spec\" in df.columns:\n",
    "        unique_repos = df[\"spec\"].nunique()\n",
    "        print(f\"Unique repositories: {unique_repos:,}\")\n",
    "\n",
    "    if \"timestamp\" in df.columns:\n",
    "        date_range = (df[\"timestamp\"].max() - df[\"timestamp\"].min()).days\n",
    "        print(f\"Data spans: {date_range} days\")\n",
    "        avg_launches_per_day = total_launches / date_range if date_range > 0 else 0\n",
    "        print(f\"Average launches per day: {avg_launches_per_day:.1f}\")\n",
    "\n",
    "    # Recent activity (last 30 days)\n",
    "    if \"timestamp\" in df.columns:\n",
    "        recent_cutoff = df[\"timestamp\"].max() - timedelta(days=30)\n",
    "        recent_launches = len(df[df[\"timestamp\"] >= recent_cutoff])\n",
    "        print(f\"Launches in last 30 days: {recent_launches:,}\")"
   ]
  }
 ],
 "metadata": {
  "kernelspec": {
   "display_name": "Python 3 (ipykernel)",
   "language": "python",
   "name": "python3"
  },
  "language_info": {
   "codemirror_mode": {
    "name": "ipython",
    "version": 3
   },
   "file_extension": ".py",
   "mimetype": "text/x-python",
   "name": "python",
   "nbconvert_exporter": "python",
   "pygments_lexer": "ipython3",
   "version": "3.10.14"
  }
 },
 "nbformat": 4,
 "nbformat_minor": 4
}
