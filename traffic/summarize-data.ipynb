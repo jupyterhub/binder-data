{
 "cells": [
  {
   "cell_type": "markdown",
   "metadata": {},
   "source": [
    "# Clean and summarize mybinder.org traffic\n",
    "\n",
    "This cleans up our traffic data and removes/summarizes rare repositories."
   ]
  },
  {
   "cell_type": "code",
   "execution_count": 1,
   "metadata": {},
   "outputs": [],
   "source": [
    "from urllib.parse import urlparse\n",
    "\n",
    "import pandas as pd"
   ]
  },
  {
   "cell_type": "code",
   "execution_count": 2,
   "metadata": {},
   "outputs": [],
   "source": [
    "fname = 'Analytics All Web Site Data Pages 20180820-20180918.csv'"
   ]
  },
  {
   "cell_type": "code",
   "execution_count": 3,
   "metadata": {},
   "outputs": [],
   "source": [
    "date_range = fname.split()[-1].replace('.csv', '')"
   ]
  },
  {
   "cell_type": "markdown",
   "metadata": {},
   "source": [
    "There is junk at the start and the end of the Google Analytics export."
   ]
  },
  {
   "cell_type": "code",
   "execution_count": 4,
   "metadata": {},
   "outputs": [
    {
     "name": "stdout",
     "output_type": "stream",
     "text": [
      "# ----------------------------------------\r\n",
      "# All Web Site Data\r\n",
      "# Pages\r\n",
      "# 20180820-20180918\r\n",
      "# ----------------------------------------\r\n",
      "\r\n",
      "Page,Page Views,Unique Page Views,Avg. Time on Page,Entrances,Bounce Rate,% Exit,Page Value\r\n",
      "/v2/gh/ipython/ipython-in-depth/master?filepath=binder/Index.ipynb,\"141,510\",\"135,235\",00:00:03,\"135,234\",99.93%,95.56%,US$0.00\r\n",
      "/v2/gh/jupyterlab/jupyterlab-demo/master?urlpath=lab/tree/demo/Lorenz.ipynb,\"76,870\",\"76,851\",00:00:22,\"76,850\",99.98%,99.97%,US$0.00\r\n",
      "/,\"19,199\",\"19,168\",00:01:13,\"19,168\",99.84%,99.84%,US$0.00\r\n"
     ]
    }
   ],
   "source": [
    "!head \"$fname\""
   ]
  },
  {
   "cell_type": "code",
   "execution_count": 5,
   "metadata": {},
   "outputs": [],
   "source": [
    "with open('data.csv', 'w') as output:\n",
    "    with open(fname) as f:\n",
    "        blanks = 0\n",
    "        for line in f:\n",
    "            line = line.strip()\n",
    "            if line.startswith(\"/v2/\") or line.startswith(\"Page\"):\n",
    "                output.write(line + '\\n')"
   ]
  },
  {
   "cell_type": "code",
   "execution_count": 6,
   "metadata": {},
   "outputs": [
    {
     "name": "stdout",
     "output_type": "stream",
     "text": [
      "/v2/git/https://github.uconn.edu/rcc02007/ME3263_Lab-0.git/f25072f2e708c231ea05040cab6aae2699a7be6f?urlpath=https://github.uconn.edu/rcc02007/ME3263_Lab-0/blob/master/ME3263_lab-00.ipynb,1,1,00:00:00,1,100.00%,100.00%,US$0.00\r\n",
      "/v2/git/https://gitlab.oceantrack.org/otndc/resonate-glatos-workshop/0acb1b3ca3e97a87bccd826ed43712d493964cc4?urlpath=rstudio,1,1,00:00:00,1,100.00%,100.00%,US$0.00\r\n",
      "/v2/git/https://gitlab.oceantrack.org/otndc/resonate-glatos-workshop/7ca5da70cc102ed14709f379e30b70c10e5b4fa3,1,1,00:00:00,1,100.00%,100.00%,US$0.00\r\n",
      "/v2/git/Mybinder@wanderer0927.synology.me:/volume1/github/demo02-Qt4+pyserial:asdfghjkl/49743082ad8c5dcff8bac57a71d0fe5147e3e196,1,1,00:00:00,1,100.00%,100.00%,US$0.00\r\n",
      "/v2/gl/https://git.ecdf.ed.ac.uk/jmorton5/data_science_intro/874bb80ab45f051126ff48176ac24afa3bf415ff,1,1,00:00:00,1,100.00%,100.00%,US$0.00\r\n",
      "/v2/gl/jumson/pinode_notes/master?urlpath=lab,1,1,00:00:00,1,100.00%,100.00%,US$0.00\r\n",
      "/v2/gl/ktiwari9/gaussian-process/master?filepath=GP_1D.ipynb,1,1,00:00:00,1,100.00%,100.00%,US$0.00\r\n",
      "/v2/gl/qianrumegrelate/meg,1,1,00:00:00,1,100.00%,100.00%,US$0.00\r\n",
      "/v2/gl/SantiagoSantana/tiempo_real/binder?filepath=notebooks/PracticoUno.ipynb,1,1,00:00:00,1,100.00%,100.00%,US$0.00\r\n",
      "/v2/gl/SantiagoSantana/tiempo_real/master,1,1,00:00:00,1,100.00%,100.00%,US$0.00\r\n"
     ]
    }
   ],
   "source": [
    "# check file ends with sensible lines of page visits\n",
    "!tail data.csv"
   ]
  },
  {
   "cell_type": "code",
   "execution_count": 7,
   "metadata": {},
   "outputs": [],
   "source": [
    "df = pd.read_csv(\"data.csv\")"
   ]
  },
  {
   "cell_type": "code",
   "execution_count": 8,
   "metadata": {},
   "outputs": [
    {
     "data": {
      "text/html": [
       "<div>\n",
       "<style scoped>\n",
       "    .dataframe tbody tr th:only-of-type {\n",
       "        vertical-align: middle;\n",
       "    }\n",
       "\n",
       "    .dataframe tbody tr th {\n",
       "        vertical-align: top;\n",
       "    }\n",
       "\n",
       "    .dataframe thead th {\n",
       "        text-align: right;\n",
       "    }\n",
       "</style>\n",
       "<table border=\"1\" class=\"dataframe\">\n",
       "  <thead>\n",
       "    <tr style=\"text-align: right;\">\n",
       "      <th></th>\n",
       "      <th>Page</th>\n",
       "      <th>Page Views</th>\n",
       "      <th>Unique Page Views</th>\n",
       "      <th>Avg. Time on Page</th>\n",
       "      <th>Entrances</th>\n",
       "      <th>Bounce Rate</th>\n",
       "      <th>% Exit</th>\n",
       "      <th>Page Value</th>\n",
       "    </tr>\n",
       "  </thead>\n",
       "  <tbody>\n",
       "    <tr>\n",
       "      <th>0</th>\n",
       "      <td>/v2/gh/ipython/ipython-in-depth/master?filepat...</td>\n",
       "      <td>141,510</td>\n",
       "      <td>135,235</td>\n",
       "      <td>00:00:03</td>\n",
       "      <td>135,234</td>\n",
       "      <td>99.93%</td>\n",
       "      <td>95.56%</td>\n",
       "      <td>US$0.00</td>\n",
       "    </tr>\n",
       "    <tr>\n",
       "      <th>1</th>\n",
       "      <td>/v2/gh/jupyterlab/jupyterlab-demo/master?urlpa...</td>\n",
       "      <td>76,870</td>\n",
       "      <td>76,851</td>\n",
       "      <td>00:00:22</td>\n",
       "      <td>76,850</td>\n",
       "      <td>99.98%</td>\n",
       "      <td>99.97%</td>\n",
       "      <td>US$0.00</td>\n",
       "    </tr>\n",
       "    <tr>\n",
       "      <th>2</th>\n",
       "      <td>/v2/gh/bokeh/bokeh-notebooks/master?filepath=t...</td>\n",
       "      <td>7,252</td>\n",
       "      <td>7,251</td>\n",
       "      <td>00:00:05</td>\n",
       "      <td>7,251</td>\n",
       "      <td>99.99%</td>\n",
       "      <td>99.99%</td>\n",
       "      <td>US$0.00</td>\n",
       "    </tr>\n",
       "    <tr>\n",
       "      <th>3</th>\n",
       "      <td>/v2/gh/binder-examples/r/master?filepath=index...</td>\n",
       "      <td>5,571</td>\n",
       "      <td>5,567</td>\n",
       "      <td>00:00:02</td>\n",
       "      <td>5,567</td>\n",
       "      <td>99.93%</td>\n",
       "      <td>99.93%</td>\n",
       "      <td>US$0.00</td>\n",
       "    </tr>\n",
       "    <tr>\n",
       "      <th>4</th>\n",
       "      <td>/v2/gh/QuantStack/xeus-cling/stable?filepath=n...</td>\n",
       "      <td>4,182</td>\n",
       "      <td>4,182</td>\n",
       "      <td>00:00:00</td>\n",
       "      <td>4,182</td>\n",
       "      <td>100.00%</td>\n",
       "      <td>100.00%</td>\n",
       "      <td>US$0.00</td>\n",
       "    </tr>\n",
       "  </tbody>\n",
       "</table>\n",
       "</div>"
      ],
      "text/plain": [
       "                                                Page Page Views  \\\n",
       "0  /v2/gh/ipython/ipython-in-depth/master?filepat...    141,510   \n",
       "1  /v2/gh/jupyterlab/jupyterlab-demo/master?urlpa...     76,870   \n",
       "2  /v2/gh/bokeh/bokeh-notebooks/master?filepath=t...      7,252   \n",
       "3  /v2/gh/binder-examples/r/master?filepath=index...      5,571   \n",
       "4  /v2/gh/QuantStack/xeus-cling/stable?filepath=n...      4,182   \n",
       "\n",
       "  Unique Page Views Avg. Time on Page Entrances Bounce Rate   % Exit  \\\n",
       "0           135,235          00:00:03   135,234      99.93%   95.56%   \n",
       "1            76,851          00:00:22    76,850      99.98%   99.97%   \n",
       "2             7,251          00:00:05     7,251      99.99%   99.99%   \n",
       "3             5,567          00:00:02     5,567      99.93%   99.93%   \n",
       "4             4,182          00:00:00     4,182     100.00%  100.00%   \n",
       "\n",
       "  Page Value  \n",
       "0    US$0.00  \n",
       "1    US$0.00  \n",
       "2    US$0.00  \n",
       "3    US$0.00  \n",
       "4    US$0.00  "
      ]
     },
     "execution_count": 8,
     "metadata": {},
     "output_type": "execute_result"
    }
   ],
   "source": [
    "df.head()"
   ]
  },
  {
   "cell_type": "code",
   "execution_count": 9,
   "metadata": {},
   "outputs": [],
   "source": [
    "df['Path'] = df['Page'].map(lambda x: urlparse(x).path, na_action='ignore')\n",
    "df['Repo'] = df['Page'].map(lambda x: urlparse(x).path.rsplit(\"/\", maxsplit=1)[0], na_action='ignore')\n",
    "\n",
    "df['Page Views'] = df['Page Views'].map(lambda x: x.replace(',', '')).astype(int)"
   ]
  },
  {
   "cell_type": "code",
   "execution_count": 10,
   "metadata": {},
   "outputs": [
    {
     "data": {
      "text/html": [
       "<div>\n",
       "<style scoped>\n",
       "    .dataframe tbody tr th:only-of-type {\n",
       "        vertical-align: middle;\n",
       "    }\n",
       "\n",
       "    .dataframe tbody tr th {\n",
       "        vertical-align: top;\n",
       "    }\n",
       "\n",
       "    .dataframe thead th {\n",
       "        text-align: right;\n",
       "    }\n",
       "</style>\n",
       "<table border=\"1\" class=\"dataframe\">\n",
       "  <thead>\n",
       "    <tr style=\"text-align: right;\">\n",
       "      <th></th>\n",
       "      <th>Page</th>\n",
       "      <th>Page Views</th>\n",
       "      <th>Unique Page Views</th>\n",
       "      <th>Avg. Time on Page</th>\n",
       "      <th>Entrances</th>\n",
       "      <th>Bounce Rate</th>\n",
       "      <th>% Exit</th>\n",
       "      <th>Page Value</th>\n",
       "      <th>Path</th>\n",
       "      <th>Repo</th>\n",
       "    </tr>\n",
       "  </thead>\n",
       "  <tbody>\n",
       "    <tr>\n",
       "      <th>0</th>\n",
       "      <td>/v2/gh/ipython/ipython-in-depth/master?filepat...</td>\n",
       "      <td>141510</td>\n",
       "      <td>135,235</td>\n",
       "      <td>00:00:03</td>\n",
       "      <td>135,234</td>\n",
       "      <td>99.93%</td>\n",
       "      <td>95.56%</td>\n",
       "      <td>US$0.00</td>\n",
       "      <td>/v2/gh/ipython/ipython-in-depth/master</td>\n",
       "      <td>/v2/gh/ipython/ipython-in-depth</td>\n",
       "    </tr>\n",
       "    <tr>\n",
       "      <th>1</th>\n",
       "      <td>/v2/gh/jupyterlab/jupyterlab-demo/master?urlpa...</td>\n",
       "      <td>76870</td>\n",
       "      <td>76,851</td>\n",
       "      <td>00:00:22</td>\n",
       "      <td>76,850</td>\n",
       "      <td>99.98%</td>\n",
       "      <td>99.97%</td>\n",
       "      <td>US$0.00</td>\n",
       "      <td>/v2/gh/jupyterlab/jupyterlab-demo/master</td>\n",
       "      <td>/v2/gh/jupyterlab/jupyterlab-demo</td>\n",
       "    </tr>\n",
       "    <tr>\n",
       "      <th>2</th>\n",
       "      <td>/v2/gh/bokeh/bokeh-notebooks/master?filepath=t...</td>\n",
       "      <td>7252</td>\n",
       "      <td>7,251</td>\n",
       "      <td>00:00:05</td>\n",
       "      <td>7,251</td>\n",
       "      <td>99.99%</td>\n",
       "      <td>99.99%</td>\n",
       "      <td>US$0.00</td>\n",
       "      <td>/v2/gh/bokeh/bokeh-notebooks/master</td>\n",
       "      <td>/v2/gh/bokeh/bokeh-notebooks</td>\n",
       "    </tr>\n",
       "    <tr>\n",
       "      <th>3</th>\n",
       "      <td>/v2/gh/binder-examples/r/master?filepath=index...</td>\n",
       "      <td>5571</td>\n",
       "      <td>5,567</td>\n",
       "      <td>00:00:02</td>\n",
       "      <td>5,567</td>\n",
       "      <td>99.93%</td>\n",
       "      <td>99.93%</td>\n",
       "      <td>US$0.00</td>\n",
       "      <td>/v2/gh/binder-examples/r/master</td>\n",
       "      <td>/v2/gh/binder-examples/r</td>\n",
       "    </tr>\n",
       "    <tr>\n",
       "      <th>4</th>\n",
       "      <td>/v2/gh/QuantStack/xeus-cling/stable?filepath=n...</td>\n",
       "      <td>4182</td>\n",
       "      <td>4,182</td>\n",
       "      <td>00:00:00</td>\n",
       "      <td>4,182</td>\n",
       "      <td>100.00%</td>\n",
       "      <td>100.00%</td>\n",
       "      <td>US$0.00</td>\n",
       "      <td>/v2/gh/QuantStack/xeus-cling/stable</td>\n",
       "      <td>/v2/gh/QuantStack/xeus-cling</td>\n",
       "    </tr>\n",
       "  </tbody>\n",
       "</table>\n",
       "</div>"
      ],
      "text/plain": [
       "                                                Page  Page Views  \\\n",
       "0  /v2/gh/ipython/ipython-in-depth/master?filepat...      141510   \n",
       "1  /v2/gh/jupyterlab/jupyterlab-demo/master?urlpa...       76870   \n",
       "2  /v2/gh/bokeh/bokeh-notebooks/master?filepath=t...        7252   \n",
       "3  /v2/gh/binder-examples/r/master?filepath=index...        5571   \n",
       "4  /v2/gh/QuantStack/xeus-cling/stable?filepath=n...        4182   \n",
       "\n",
       "  Unique Page Views Avg. Time on Page Entrances Bounce Rate   % Exit  \\\n",
       "0           135,235          00:00:03   135,234      99.93%   95.56%   \n",
       "1            76,851          00:00:22    76,850      99.98%   99.97%   \n",
       "2             7,251          00:00:05     7,251      99.99%   99.99%   \n",
       "3             5,567          00:00:02     5,567      99.93%   99.93%   \n",
       "4             4,182          00:00:00     4,182     100.00%  100.00%   \n",
       "\n",
       "  Page Value                                      Path  \\\n",
       "0    US$0.00    /v2/gh/ipython/ipython-in-depth/master   \n",
       "1    US$0.00  /v2/gh/jupyterlab/jupyterlab-demo/master   \n",
       "2    US$0.00       /v2/gh/bokeh/bokeh-notebooks/master   \n",
       "3    US$0.00           /v2/gh/binder-examples/r/master   \n",
       "4    US$0.00       /v2/gh/QuantStack/xeus-cling/stable   \n",
       "\n",
       "                                Repo  \n",
       "0    /v2/gh/ipython/ipython-in-depth  \n",
       "1  /v2/gh/jupyterlab/jupyterlab-demo  \n",
       "2       /v2/gh/bokeh/bokeh-notebooks  \n",
       "3           /v2/gh/binder-examples/r  \n",
       "4       /v2/gh/QuantStack/xeus-cling  "
      ]
     },
     "execution_count": 10,
     "metadata": {},
     "output_type": "execute_result"
    }
   ],
   "source": [
    "df.head()"
   ]
  },
  {
   "cell_type": "code",
   "execution_count": 11,
   "metadata": {},
   "outputs": [
    {
     "data": {
      "text/html": [
       "<div>\n",
       "<style scoped>\n",
       "    .dataframe tbody tr th:only-of-type {\n",
       "        vertical-align: middle;\n",
       "    }\n",
       "\n",
       "    .dataframe tbody tr th {\n",
       "        vertical-align: top;\n",
       "    }\n",
       "\n",
       "    .dataframe thead th {\n",
       "        text-align: right;\n",
       "    }\n",
       "</style>\n",
       "<table border=\"1\" class=\"dataframe\">\n",
       "  <thead>\n",
       "    <tr style=\"text-align: right;\">\n",
       "      <th></th>\n",
       "      <th>Page</th>\n",
       "      <th>Page Views</th>\n",
       "      <th>Unique Page Views</th>\n",
       "      <th>Avg. Time on Page</th>\n",
       "      <th>Entrances</th>\n",
       "      <th>Bounce Rate</th>\n",
       "      <th>% Exit</th>\n",
       "      <th>Page Value</th>\n",
       "      <th>Path</th>\n",
       "      <th>Repo</th>\n",
       "    </tr>\n",
       "  </thead>\n",
       "  <tbody>\n",
       "    <tr>\n",
       "      <th>4121</th>\n",
       "      <td>/v2/gl/jumson/pinode_notes/master?urlpath=lab</td>\n",
       "      <td>1</td>\n",
       "      <td>1</td>\n",
       "      <td>00:00:00</td>\n",
       "      <td>1</td>\n",
       "      <td>100.00%</td>\n",
       "      <td>100.00%</td>\n",
       "      <td>US$0.00</td>\n",
       "      <td>/v2/gl/jumson/pinode_notes/master</td>\n",
       "      <td>/v2/gl/jumson/pinode_notes</td>\n",
       "    </tr>\n",
       "    <tr>\n",
       "      <th>4122</th>\n",
       "      <td>/v2/gl/ktiwari9/gaussian-process/master?filepa...</td>\n",
       "      <td>1</td>\n",
       "      <td>1</td>\n",
       "      <td>00:00:00</td>\n",
       "      <td>1</td>\n",
       "      <td>100.00%</td>\n",
       "      <td>100.00%</td>\n",
       "      <td>US$0.00</td>\n",
       "      <td>/v2/gl/ktiwari9/gaussian-process/master</td>\n",
       "      <td>/v2/gl/ktiwari9/gaussian-process</td>\n",
       "    </tr>\n",
       "    <tr>\n",
       "      <th>4123</th>\n",
       "      <td>/v2/gl/qianrumegrelate/meg</td>\n",
       "      <td>1</td>\n",
       "      <td>1</td>\n",
       "      <td>00:00:00</td>\n",
       "      <td>1</td>\n",
       "      <td>100.00%</td>\n",
       "      <td>100.00%</td>\n",
       "      <td>US$0.00</td>\n",
       "      <td>/v2/gl/qianrumegrelate/meg</td>\n",
       "      <td>/v2/gl/qianrumegrelate</td>\n",
       "    </tr>\n",
       "    <tr>\n",
       "      <th>4124</th>\n",
       "      <td>/v2/gl/SantiagoSantana/tiempo_real/binder?file...</td>\n",
       "      <td>1</td>\n",
       "      <td>1</td>\n",
       "      <td>00:00:00</td>\n",
       "      <td>1</td>\n",
       "      <td>100.00%</td>\n",
       "      <td>100.00%</td>\n",
       "      <td>US$0.00</td>\n",
       "      <td>/v2/gl/SantiagoSantana/tiempo_real/binder</td>\n",
       "      <td>/v2/gl/SantiagoSantana/tiempo_real</td>\n",
       "    </tr>\n",
       "    <tr>\n",
       "      <th>4125</th>\n",
       "      <td>/v2/gl/SantiagoSantana/tiempo_real/master</td>\n",
       "      <td>1</td>\n",
       "      <td>1</td>\n",
       "      <td>00:00:00</td>\n",
       "      <td>1</td>\n",
       "      <td>100.00%</td>\n",
       "      <td>100.00%</td>\n",
       "      <td>US$0.00</td>\n",
       "      <td>/v2/gl/SantiagoSantana/tiempo_real/master</td>\n",
       "      <td>/v2/gl/SantiagoSantana/tiempo_real</td>\n",
       "    </tr>\n",
       "  </tbody>\n",
       "</table>\n",
       "</div>"
      ],
      "text/plain": [
       "                                                   Page  Page Views  \\\n",
       "4121      /v2/gl/jumson/pinode_notes/master?urlpath=lab           1   \n",
       "4122  /v2/gl/ktiwari9/gaussian-process/master?filepa...           1   \n",
       "4123                         /v2/gl/qianrumegrelate/meg           1   \n",
       "4124  /v2/gl/SantiagoSantana/tiempo_real/binder?file...           1   \n",
       "4125          /v2/gl/SantiagoSantana/tiempo_real/master           1   \n",
       "\n",
       "     Unique Page Views Avg. Time on Page Entrances Bounce Rate   % Exit  \\\n",
       "4121                 1          00:00:00         1     100.00%  100.00%   \n",
       "4122                 1          00:00:00         1     100.00%  100.00%   \n",
       "4123                 1          00:00:00         1     100.00%  100.00%   \n",
       "4124                 1          00:00:00         1     100.00%  100.00%   \n",
       "4125                 1          00:00:00         1     100.00%  100.00%   \n",
       "\n",
       "     Page Value                                       Path  \\\n",
       "4121    US$0.00          /v2/gl/jumson/pinode_notes/master   \n",
       "4122    US$0.00    /v2/gl/ktiwari9/gaussian-process/master   \n",
       "4123    US$0.00                 /v2/gl/qianrumegrelate/meg   \n",
       "4124    US$0.00  /v2/gl/SantiagoSantana/tiempo_real/binder   \n",
       "4125    US$0.00  /v2/gl/SantiagoSantana/tiempo_real/master   \n",
       "\n",
       "                                    Repo  \n",
       "4121          /v2/gl/jumson/pinode_notes  \n",
       "4122    /v2/gl/ktiwari9/gaussian-process  \n",
       "4123              /v2/gl/qianrumegrelate  \n",
       "4124  /v2/gl/SantiagoSantana/tiempo_real  \n",
       "4125  /v2/gl/SantiagoSantana/tiempo_real  "
      ]
     },
     "execution_count": 11,
     "metadata": {},
     "output_type": "execute_result"
    }
   ],
   "source": [
    "df.tail()"
   ]
  },
  {
   "cell_type": "code",
   "execution_count": 12,
   "metadata": {},
   "outputs": [
    {
     "data": {
      "text/plain": [
       "2503"
      ]
     },
     "execution_count": 12,
     "metadata": {},
     "output_type": "execute_result"
    }
   ],
   "source": [
    "# Unique repositories launched this period\n",
    "len(df['Repo'].unique())"
   ]
  },
  {
   "cell_type": "code",
   "execution_count": 13,
   "metadata": {},
   "outputs": [
    {
     "data": {
      "text/plain": [
       "(4126, 10)"
      ]
     },
     "execution_count": 13,
     "metadata": {},
     "output_type": "execute_result"
    }
   ],
   "source": [
    "df.shape"
   ]
  },
  {
   "cell_type": "markdown",
   "metadata": {},
   "source": [
    "## Per Repo stats"
   ]
  },
  {
   "cell_type": "code",
   "execution_count": 14,
   "metadata": {},
   "outputs": [],
   "source": [
    "repo_stats = pd.DataFrame(df.groupby('Repo').sum()['Page Views']).reset_index()"
   ]
  },
  {
   "cell_type": "code",
   "execution_count": 15,
   "metadata": {},
   "outputs": [
    {
     "data": {
      "text/html": [
       "<div>\n",
       "<style scoped>\n",
       "    .dataframe tbody tr th:only-of-type {\n",
       "        vertical-align: middle;\n",
       "    }\n",
       "\n",
       "    .dataframe tbody tr th {\n",
       "        vertical-align: top;\n",
       "    }\n",
       "\n",
       "    .dataframe thead th {\n",
       "        text-align: right;\n",
       "    }\n",
       "</style>\n",
       "<table border=\"1\" class=\"dataframe\">\n",
       "  <thead>\n",
       "    <tr style=\"text-align: right;\">\n",
       "      <th></th>\n",
       "      <th>Repo</th>\n",
       "      <th>Page Views</th>\n",
       "    </tr>\n",
       "  </thead>\n",
       "  <tbody>\n",
       "    <tr>\n",
       "      <th>0</th>\n",
       "      <td>/v2/gh/ 2gcpeixoto/lecture-ipynb</td>\n",
       "      <td>2</td>\n",
       "    </tr>\n",
       "    <tr>\n",
       "      <th>1</th>\n",
       "      <td>/v2/gh/2018-Arizona-Opportunity-Hack/npo-selec...</td>\n",
       "      <td>2</td>\n",
       "    </tr>\n",
       "    <tr>\n",
       "      <th>2</th>\n",
       "      <td>/v2/gh/3ptscience/steno3d-notebooks</td>\n",
       "      <td>1</td>\n",
       "    </tr>\n",
       "    <tr>\n",
       "      <th>3</th>\n",
       "      <td>/v2/gh/4QuantOSS/Augmentor</td>\n",
       "      <td>2</td>\n",
       "    </tr>\n",
       "    <tr>\n",
       "      <th>4</th>\n",
       "      <td>/v2/gh/4QuantOSS/DashIntro</td>\n",
       "      <td>292</td>\n",
       "    </tr>\n",
       "  </tbody>\n",
       "</table>\n",
       "</div>"
      ],
      "text/plain": [
       "                                                Repo  Page Views\n",
       "0                   /v2/gh/ 2gcpeixoto/lecture-ipynb           2\n",
       "1  /v2/gh/2018-Arizona-Opportunity-Hack/npo-selec...           2\n",
       "2                /v2/gh/3ptscience/steno3d-notebooks           1\n",
       "3                         /v2/gh/4QuantOSS/Augmentor           2\n",
       "4                         /v2/gh/4QuantOSS/DashIntro         292"
      ]
     },
     "execution_count": 15,
     "metadata": {},
     "output_type": "execute_result"
    }
   ],
   "source": [
    "repo_stats.head()"
   ]
  },
  {
   "cell_type": "code",
   "execution_count": 16,
   "metadata": {},
   "outputs": [],
   "source": [
    "# remove weird hits\n",
    "repo_stats = repo_stats[repo_stats['Repo'].str.startswith(\"/v2/\")]"
   ]
  },
  {
   "cell_type": "code",
   "execution_count": 17,
   "metadata": {},
   "outputs": [],
   "source": [
    "# Remove repositories that weren't launched often to\n",
    "# protect their identity\n",
    "repo_stats = repo_stats[repo_stats['Page Views'] >= 5]"
   ]
  },
  {
   "cell_type": "code",
   "execution_count": 18,
   "metadata": {},
   "outputs": [
    {
     "data": {
      "text/html": [
       "<div>\n",
       "<style scoped>\n",
       "    .dataframe tbody tr th:only-of-type {\n",
       "        vertical-align: middle;\n",
       "    }\n",
       "\n",
       "    .dataframe tbody tr th {\n",
       "        vertical-align: top;\n",
       "    }\n",
       "\n",
       "    .dataframe thead th {\n",
       "        text-align: right;\n",
       "    }\n",
       "</style>\n",
       "<table border=\"1\" class=\"dataframe\">\n",
       "  <thead>\n",
       "    <tr style=\"text-align: right;\">\n",
       "      <th></th>\n",
       "      <th>Repo</th>\n",
       "      <th>Page Views</th>\n",
       "    </tr>\n",
       "  </thead>\n",
       "  <tbody>\n",
       "    <tr>\n",
       "      <th>4</th>\n",
       "      <td>/v2/gh/4QuantOSS/DashIntro</td>\n",
       "      <td>292</td>\n",
       "    </tr>\n",
       "    <tr>\n",
       "      <th>5</th>\n",
       "      <td>/v2/gh/4QuantOSS/scijava-jupyter-kernel</td>\n",
       "      <td>59</td>\n",
       "    </tr>\n",
       "    <tr>\n",
       "      <th>9</th>\n",
       "      <td>/v2/gh/9735ccj/ipad-python3.git</td>\n",
       "      <td>22</td>\n",
       "    </tr>\n",
       "    <tr>\n",
       "      <th>12</th>\n",
       "      <td>/v2/gh/AM207/2018spring</td>\n",
       "      <td>7</td>\n",
       "    </tr>\n",
       "    <tr>\n",
       "      <th>13</th>\n",
       "      <td>/v2/gh/ASamarkRoth/gammalab_analysis</td>\n",
       "      <td>13</td>\n",
       "    </tr>\n",
       "  </tbody>\n",
       "</table>\n",
       "</div>"
      ],
      "text/plain": [
       "                                       Repo  Page Views\n",
       "4                /v2/gh/4QuantOSS/DashIntro         292\n",
       "5   /v2/gh/4QuantOSS/scijava-jupyter-kernel          59\n",
       "9           /v2/gh/9735ccj/ipad-python3.git          22\n",
       "12                  /v2/gh/AM207/2018spring           7\n",
       "13     /v2/gh/ASamarkRoth/gammalab_analysis          13"
      ]
     },
     "execution_count": 18,
     "metadata": {},
     "output_type": "execute_result"
    }
   ],
   "source": [
    "repo_stats.head()"
   ]
  },
  {
   "cell_type": "code",
   "execution_count": 19,
   "metadata": {
    "scrolled": false
   },
   "outputs": [
    {
     "data": {
      "text/html": [
       "<div>\n",
       "<style scoped>\n",
       "    .dataframe tbody tr th:only-of-type {\n",
       "        vertical-align: middle;\n",
       "    }\n",
       "\n",
       "    .dataframe tbody tr th {\n",
       "        vertical-align: top;\n",
       "    }\n",
       "\n",
       "    .dataframe thead th {\n",
       "        text-align: right;\n",
       "    }\n",
       "</style>\n",
       "<table border=\"1\" class=\"dataframe\">\n",
       "  <thead>\n",
       "    <tr style=\"text-align: right;\">\n",
       "      <th></th>\n",
       "      <th>Repo</th>\n",
       "      <th>Page Views</th>\n",
       "    </tr>\n",
       "  </thead>\n",
       "  <tbody>\n",
       "    <tr>\n",
       "      <th>1303</th>\n",
       "      <td>/v2/gh/ipython/ipython-in-depth</td>\n",
       "      <td>143174</td>\n",
       "    </tr>\n",
       "    <tr>\n",
       "      <th>1432</th>\n",
       "      <td>/v2/gh/jupyterlab/jupyterlab-demo</td>\n",
       "      <td>79239</td>\n",
       "    </tr>\n",
       "    <tr>\n",
       "      <th>722</th>\n",
       "      <td>/v2/gh/bokeh/bokeh-notebooks</td>\n",
       "      <td>7299</td>\n",
       "    </tr>\n",
       "    <tr>\n",
       "      <th>689</th>\n",
       "      <td>/v2/gh/binder-examples/r</td>\n",
       "      <td>5854</td>\n",
       "    </tr>\n",
       "    <tr>\n",
       "      <th>361</th>\n",
       "      <td>/v2/gh/QuantStack/xeus-cling</td>\n",
       "      <td>4267</td>\n",
       "    </tr>\n",
       "  </tbody>\n",
       "</table>\n",
       "</div>"
      ],
      "text/plain": [
       "                                   Repo  Page Views\n",
       "1303    /v2/gh/ipython/ipython-in-depth      143174\n",
       "1432  /v2/gh/jupyterlab/jupyterlab-demo       79239\n",
       "722        /v2/gh/bokeh/bokeh-notebooks        7299\n",
       "689            /v2/gh/binder-examples/r        5854\n",
       "361        /v2/gh/QuantStack/xeus-cling        4267"
      ]
     },
     "execution_count": 19,
     "metadata": {},
     "output_type": "execute_result"
    }
   ],
   "source": [
    "repo_stats.sort_values(by='Page Views', ascending=False).head()"
   ]
  },
  {
   "cell_type": "code",
   "execution_count": 20,
   "metadata": {},
   "outputs": [],
   "source": [
    "repo_stats.to_csv('repo-{}.csv'.format(date_range), index=False)"
   ]
  },
  {
   "cell_type": "markdown",
   "metadata": {},
   "source": [
    "## Per Page Stats"
   ]
  },
  {
   "cell_type": "code",
   "execution_count": 21,
   "metadata": {},
   "outputs": [
    {
     "data": {
      "text/html": [
       "<div>\n",
       "<style scoped>\n",
       "    .dataframe tbody tr th:only-of-type {\n",
       "        vertical-align: middle;\n",
       "    }\n",
       "\n",
       "    .dataframe tbody tr th {\n",
       "        vertical-align: top;\n",
       "    }\n",
       "\n",
       "    .dataframe thead th {\n",
       "        text-align: right;\n",
       "    }\n",
       "</style>\n",
       "<table border=\"1\" class=\"dataframe\">\n",
       "  <thead>\n",
       "    <tr style=\"text-align: right;\">\n",
       "      <th></th>\n",
       "      <th>Page</th>\n",
       "      <th>Page Views</th>\n",
       "    </tr>\n",
       "  </thead>\n",
       "  <tbody>\n",
       "    <tr>\n",
       "      <th>0</th>\n",
       "      <td>/v2/gh/ipython/ipython-in-depth/master?filepat...</td>\n",
       "      <td>141510</td>\n",
       "    </tr>\n",
       "    <tr>\n",
       "      <th>1</th>\n",
       "      <td>/v2/gh/jupyterlab/jupyterlab-demo/master?urlpa...</td>\n",
       "      <td>76870</td>\n",
       "    </tr>\n",
       "    <tr>\n",
       "      <th>2</th>\n",
       "      <td>/v2/gh/bokeh/bokeh-notebooks/master?filepath=t...</td>\n",
       "      <td>7252</td>\n",
       "    </tr>\n",
       "    <tr>\n",
       "      <th>3</th>\n",
       "      <td>/v2/gh/binder-examples/r/master?filepath=index...</td>\n",
       "      <td>5571</td>\n",
       "    </tr>\n",
       "    <tr>\n",
       "      <th>4</th>\n",
       "      <td>/v2/gh/QuantStack/xeus-cling/stable?filepath=n...</td>\n",
       "      <td>4182</td>\n",
       "    </tr>\n",
       "  </tbody>\n",
       "</table>\n",
       "</div>"
      ],
      "text/plain": [
       "                                                Page  Page Views\n",
       "0  /v2/gh/ipython/ipython-in-depth/master?filepat...      141510\n",
       "1  /v2/gh/jupyterlab/jupyterlab-demo/master?urlpa...       76870\n",
       "2  /v2/gh/bokeh/bokeh-notebooks/master?filepath=t...        7252\n",
       "3  /v2/gh/binder-examples/r/master?filepath=index...        5571\n",
       "4  /v2/gh/QuantStack/xeus-cling/stable?filepath=n...        4182"
      ]
     },
     "execution_count": 21,
     "metadata": {},
     "output_type": "execute_result"
    }
   ],
   "source": [
    "page_stats = df[['Page', 'Page Views']]\n",
    "# remove weird pages\n",
    "page_stats = page_stats[page_stats.notna()]\n",
    "\n",
    "page_stats = page_stats[page_stats['Page'].str.startswith(\"/v2/\")]\n",
    "\n",
    "page_stats = page_stats[page_stats['Page Views']>=5]\n",
    "\n",
    "page_stats.sort_values(by='Page Views', ascending=False).head()"
   ]
  },
  {
   "cell_type": "code",
   "execution_count": 22,
   "metadata": {},
   "outputs": [
    {
     "data": {
      "text/html": [
       "<div>\n",
       "<style scoped>\n",
       "    .dataframe tbody tr th:only-of-type {\n",
       "        vertical-align: middle;\n",
       "    }\n",
       "\n",
       "    .dataframe tbody tr th {\n",
       "        vertical-align: top;\n",
       "    }\n",
       "\n",
       "    .dataframe thead th {\n",
       "        text-align: right;\n",
       "    }\n",
       "</style>\n",
       "<table border=\"1\" class=\"dataframe\">\n",
       "  <thead>\n",
       "    <tr style=\"text-align: right;\">\n",
       "      <th></th>\n",
       "      <th>Page</th>\n",
       "      <th>Page Views</th>\n",
       "    </tr>\n",
       "  </thead>\n",
       "  <tbody>\n",
       "    <tr>\n",
       "      <th>1352</th>\n",
       "      <td>/v2/gh/zhzhzh/python-notebooks/master?urlpath=...</td>\n",
       "      <td>5</td>\n",
       "    </tr>\n",
       "    <tr>\n",
       "      <th>1353</th>\n",
       "      <td>/v2/gist/darribas/4121857/master?filepath=guar...</td>\n",
       "      <td>5</td>\n",
       "    </tr>\n",
       "    <tr>\n",
       "      <th>1354</th>\n",
       "      <td>/v2/gist/mdhk/ad0725cf494385d699aef6d6c40131be...</td>\n",
       "      <td>5</td>\n",
       "    </tr>\n",
       "    <tr>\n",
       "      <th>1355</th>\n",
       "      <td>/v2/gl/jumson/pinode_notes/master</td>\n",
       "      <td>5</td>\n",
       "    </tr>\n",
       "    <tr>\n",
       "      <th>1356</th>\n",
       "      <td>/v2/gl/wichit2s/programmingfundamentals/master</td>\n",
       "      <td>5</td>\n",
       "    </tr>\n",
       "  </tbody>\n",
       "</table>\n",
       "</div>"
      ],
      "text/plain": [
       "                                                   Page  Page Views\n",
       "1352  /v2/gh/zhzhzh/python-notebooks/master?urlpath=...           5\n",
       "1353  /v2/gist/darribas/4121857/master?filepath=guar...           5\n",
       "1354  /v2/gist/mdhk/ad0725cf494385d699aef6d6c40131be...           5\n",
       "1355                  /v2/gl/jumson/pinode_notes/master           5\n",
       "1356     /v2/gl/wichit2s/programmingfundamentals/master           5"
      ]
     },
     "execution_count": 22,
     "metadata": {},
     "output_type": "execute_result"
    }
   ],
   "source": [
    "page_stats.tail()"
   ]
  },
  {
   "cell_type": "code",
   "execution_count": 23,
   "metadata": {},
   "outputs": [],
   "source": [
    "page_stats.to_csv('page-{}.csv'.format(date_range), index=False)"
   ]
  },
  {
   "cell_type": "code",
   "execution_count": null,
   "metadata": {},
   "outputs": [],
   "source": []
  }
 ],
 "metadata": {
  "kernelspec": {
   "display_name": "Python 3",
   "language": "python",
   "name": "python3"
  },
  "language_info": {
   "codemirror_mode": {
    "name": "ipython",
    "version": 3
   },
   "file_extension": ".py",
   "mimetype": "text/x-python",
   "name": "python",
   "nbconvert_exporter": "python",
   "pygments_lexer": "ipython3",
   "version": "3.7.0"
  }
 },
 "nbformat": 4,
 "nbformat_minor": 2
}
